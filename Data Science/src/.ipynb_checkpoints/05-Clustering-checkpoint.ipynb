{
 "cells": [
  {
   "cell_type": "markdown",
   "id": "7ce997e9-9f9f-4829-92a5-52aa3940e6cc",
   "metadata": {},
   "source": [
    "# Clustering"
   ]
  },
  {
   "cell_type": "code",
   "execution_count": 4,
   "id": "a9a14cf8-d308-4362-bafe-c4e7a5e457f9",
   "metadata": {},
   "outputs": [
    {
     "name": "stderr",
     "output_type": "stream",
     "text": [
      "\u001b[32m\u001b[1m   Resolving\u001b[22m\u001b[39m package versions...\n",
      "\u001b[32m\u001b[1m  No Changes\u001b[22m\u001b[39m to `~/.julia/environments/v1.8/Project.toml`\n",
      "\u001b[32m\u001b[1m  No Changes\u001b[22m\u001b[39m to `~/.julia/environments/v1.8/Manifest.toml`\n",
      "\u001b[32m\u001b[1m   Resolving\u001b[22m\u001b[39m package versions...\n",
      "\u001b[32m\u001b[1m   Installed\u001b[22m\u001b[39m NodeJS ───── v1.3.0\n",
      "\u001b[32m\u001b[1m   Installed\u001b[22m\u001b[39m JSONSchema ─ v1.0.1\n",
      "\u001b[32m\u001b[1m   Installed\u001b[22m\u001b[39m Vega ─────── v2.3.1\n",
      "\u001b[32m\u001b[1m   Installed\u001b[22m\u001b[39m VegaLite ─── v2.6.0\n",
      "\u001b[32m\u001b[1m    Updating\u001b[22m\u001b[39m `~/.julia/environments/v1.8/Project.toml`\n",
      " \u001b[90m [112f6efa] \u001b[39m\u001b[92m+ VegaLite v2.6.0\u001b[39m\n",
      "\u001b[32m\u001b[1m    Updating\u001b[22m\u001b[39m `~/.julia/environments/v1.8/Manifest.toml`\n",
      " \u001b[90m [7d188eb4] \u001b[39m\u001b[92m+ JSONSchema v1.0.1\u001b[39m\n",
      " \u001b[90m [2bd173c7] \u001b[39m\u001b[92m+ NodeJS v1.3.0\u001b[39m\n",
      " \u001b[90m [239c3e63] \u001b[39m\u001b[92m+ Vega v2.3.1\u001b[39m\n",
      " \u001b[90m [112f6efa] \u001b[39m\u001b[92m+ VegaLite v2.6.0\u001b[39m\n",
      "\u001b[32m\u001b[1mPrecompiling\u001b[22m\u001b[39m project...\n",
      "\u001b[32m  ✓ \u001b[39m\u001b[90mNodeJS\u001b[39m\n",
      "\u001b[32m  ✓ \u001b[39m\u001b[90mJSONSchema\u001b[39m\n",
      "\u001b[32m  ✓ \u001b[39m\u001b[90mVega\u001b[39m\n",
      "\u001b[32m  ✓ \u001b[39mVegaLite\n",
      "  4 dependencies successfully precompiled in 7 seconds. 398 already precompiled.\n",
      "\u001b[32m\u001b[1m   Resolving\u001b[22m\u001b[39m package versions...\n",
      "\u001b[32m\u001b[1m  No Changes\u001b[22m\u001b[39m to `~/.julia/environments/v1.8/Project.toml`\n",
      "\u001b[32m\u001b[1m  No Changes\u001b[22m\u001b[39m to `~/.julia/environments/v1.8/Manifest.toml`\n",
      "\u001b[32m\u001b[1m   Resolving\u001b[22m\u001b[39m package versions...\n",
      "\u001b[32m\u001b[1m  No Changes\u001b[22m\u001b[39m to `~/.julia/environments/v1.8/Project.toml`\n",
      "\u001b[32m\u001b[1m  No Changes\u001b[22m\u001b[39m to `~/.julia/environments/v1.8/Manifest.toml`\n",
      "\u001b[32m\u001b[1m   Resolving\u001b[22m\u001b[39m package versions...\n",
      "\u001b[32m\u001b[1m    Updating\u001b[22m\u001b[39m `~/.julia/environments/v1.8/Project.toml`\n",
      " \u001b[90m [682c06a0] \u001b[39m\u001b[92m+ JSON v0.21.3\u001b[39m\n",
      "\u001b[32m\u001b[1m  No Changes\u001b[22m\u001b[39m to `~/.julia/environments/v1.8/Manifest.toml`\n",
      "\u001b[32m\u001b[1m   Resolving\u001b[22m\u001b[39m package versions...\n",
      "\u001b[32m\u001b[1m  No Changes\u001b[22m\u001b[39m to `~/.julia/environments/v1.8/Project.toml`\n",
      "\u001b[32m\u001b[1m  No Changes\u001b[22m\u001b[39m to `~/.julia/environments/v1.8/Manifest.toml`\n",
      "\u001b[32m\u001b[1m   Resolving\u001b[22m\u001b[39m package versions...\n",
      "\u001b[32m\u001b[1m  No Changes\u001b[22m\u001b[39m to `~/.julia/environments/v1.8/Project.toml`\n",
      "\u001b[32m\u001b[1m  No Changes\u001b[22m\u001b[39m to `~/.julia/environments/v1.8/Manifest.toml`\n"
     ]
    }
   ],
   "source": [
    "import Pkg;\n",
    "Pkg.add(\"Clustering\");\n",
    "Pkg.add(\"VegaLite\");\n",
    "Pkg.add(\"VegaDatasets\");\n",
    "Pkg.add(\"DataFrames\");\n",
    "Pkg.add(\"JSON\");\n",
    "Pkg.add(\"CSV\");\n",
    "Pkg.add(\"Distances\");"
   ]
  },
  {
   "cell_type": "code",
   "execution_count": 5,
   "id": "cffb62c1-9694-4a2b-992c-eb3dad42a623",
   "metadata": {},
   "outputs": [],
   "source": [
    "using Clustering\n",
    "using VegaLite\n",
    "using VegaDatasets\n",
    "using DataFrames\n",
    "using Statistics\n",
    "using JSON\n",
    "using CSV\n",
    "using Distances"
   ]
  },
  {
   "cell_type": "code",
   "execution_count": 6,
   "id": "58b841fd-ca2a-4981-8fd9-c52b12fecc10",
   "metadata": {},
   "outputs": [
    {
     "data": {
      "text/html": [
       "<div><div style = \"float: left;\"><span>20640×10 DataFrame</span></div><div style = \"float: right;\"><span style = \"font-style: italic;\">20615 rows omitted</span></div><div style = \"clear: both;\"></div></div><div class = \"data-frame\" style = \"overflow-x: scroll;\"><table class = \"data-frame\" style = \"margin-bottom: 6px;\"><thead><tr class = \"header\"><th class = \"rowNumber\" style = \"font-weight: bold; text-align: right;\">Row</th><th style = \"text-align: left;\">longitude</th><th style = \"text-align: left;\">latitude</th><th style = \"text-align: left;\">housing_median_age</th><th style = \"text-align: left;\">total_rooms</th><th style = \"text-align: left;\">total_bedrooms</th><th style = \"text-align: left;\">population</th><th style = \"text-align: left;\">households</th><th style = \"text-align: left;\">median_income</th><th style = \"text-align: left;\">median_house_value</th><th style = \"text-align: left;\">ocean_proximity</th></tr><tr class = \"subheader headerLastRow\"><th class = \"rowNumber\" style = \"font-weight: bold; text-align: right;\"></th><th title = \"Float64\" style = \"text-align: left;\">Float64</th><th title = \"Float64\" style = \"text-align: left;\">Float64</th><th title = \"Float64\" style = \"text-align: left;\">Float64</th><th title = \"Float64\" style = \"text-align: left;\">Float64</th><th title = \"Union{Missing, Float64}\" style = \"text-align: left;\">Float64?</th><th title = \"Float64\" style = \"text-align: left;\">Float64</th><th title = \"Float64\" style = \"text-align: left;\">Float64</th><th title = \"Float64\" style = \"text-align: left;\">Float64</th><th title = \"Float64\" style = \"text-align: left;\">Float64</th><th title = \"String15\" style = \"text-align: left;\">String15</th></tr></thead><tbody><tr><td class = \"rowNumber\" style = \"font-weight: bold; text-align: right;\">1</td><td style = \"text-align: right;\">-122.23</td><td style = \"text-align: right;\">37.88</td><td style = \"text-align: right;\">41.0</td><td style = \"text-align: right;\">880.0</td><td style = \"text-align: right;\">129.0</td><td style = \"text-align: right;\">322.0</td><td style = \"text-align: right;\">126.0</td><td style = \"text-align: right;\">8.3252</td><td style = \"text-align: right;\">452600.0</td><td style = \"text-align: left;\">NEAR BAY</td></tr><tr><td class = \"rowNumber\" style = \"font-weight: bold; text-align: right;\">2</td><td style = \"text-align: right;\">-122.22</td><td style = \"text-align: right;\">37.86</td><td style = \"text-align: right;\">21.0</td><td style = \"text-align: right;\">7099.0</td><td style = \"text-align: right;\">1106.0</td><td style = \"text-align: right;\">2401.0</td><td style = \"text-align: right;\">1138.0</td><td style = \"text-align: right;\">8.3014</td><td style = \"text-align: right;\">358500.0</td><td style = \"text-align: left;\">NEAR BAY</td></tr><tr><td class = \"rowNumber\" style = \"font-weight: bold; text-align: right;\">3</td><td style = \"text-align: right;\">-122.24</td><td style = \"text-align: right;\">37.85</td><td style = \"text-align: right;\">52.0</td><td style = \"text-align: right;\">1467.0</td><td style = \"text-align: right;\">190.0</td><td style = \"text-align: right;\">496.0</td><td style = \"text-align: right;\">177.0</td><td style = \"text-align: right;\">7.2574</td><td style = \"text-align: right;\">352100.0</td><td style = \"text-align: left;\">NEAR BAY</td></tr><tr><td class = \"rowNumber\" style = \"font-weight: bold; text-align: right;\">4</td><td style = \"text-align: right;\">-122.25</td><td style = \"text-align: right;\">37.85</td><td style = \"text-align: right;\">52.0</td><td style = \"text-align: right;\">1274.0</td><td style = \"text-align: right;\">235.0</td><td style = \"text-align: right;\">558.0</td><td style = \"text-align: right;\">219.0</td><td style = \"text-align: right;\">5.6431</td><td style = \"text-align: right;\">341300.0</td><td style = \"text-align: left;\">NEAR BAY</td></tr><tr><td class = \"rowNumber\" style = \"font-weight: bold; text-align: right;\">5</td><td style = \"text-align: right;\">-122.25</td><td style = \"text-align: right;\">37.85</td><td style = \"text-align: right;\">52.0</td><td style = \"text-align: right;\">1627.0</td><td style = \"text-align: right;\">280.0</td><td style = \"text-align: right;\">565.0</td><td style = \"text-align: right;\">259.0</td><td style = \"text-align: right;\">3.8462</td><td style = \"text-align: right;\">342200.0</td><td style = \"text-align: left;\">NEAR BAY</td></tr><tr><td class = \"rowNumber\" style = \"font-weight: bold; text-align: right;\">6</td><td style = \"text-align: right;\">-122.25</td><td style = \"text-align: right;\">37.85</td><td style = \"text-align: right;\">52.0</td><td style = \"text-align: right;\">919.0</td><td style = \"text-align: right;\">213.0</td><td style = \"text-align: right;\">413.0</td><td style = \"text-align: right;\">193.0</td><td style = \"text-align: right;\">4.0368</td><td style = \"text-align: right;\">269700.0</td><td style = \"text-align: left;\">NEAR BAY</td></tr><tr><td class = \"rowNumber\" style = \"font-weight: bold; text-align: right;\">7</td><td style = \"text-align: right;\">-122.25</td><td style = \"text-align: right;\">37.84</td><td style = \"text-align: right;\">52.0</td><td style = \"text-align: right;\">2535.0</td><td style = \"text-align: right;\">489.0</td><td style = \"text-align: right;\">1094.0</td><td style = \"text-align: right;\">514.0</td><td style = \"text-align: right;\">3.6591</td><td style = \"text-align: right;\">299200.0</td><td style = \"text-align: left;\">NEAR BAY</td></tr><tr><td class = \"rowNumber\" style = \"font-weight: bold; text-align: right;\">8</td><td style = \"text-align: right;\">-122.25</td><td style = \"text-align: right;\">37.84</td><td style = \"text-align: right;\">52.0</td><td style = \"text-align: right;\">3104.0</td><td style = \"text-align: right;\">687.0</td><td style = \"text-align: right;\">1157.0</td><td style = \"text-align: right;\">647.0</td><td style = \"text-align: right;\">3.12</td><td style = \"text-align: right;\">241400.0</td><td style = \"text-align: left;\">NEAR BAY</td></tr><tr><td class = \"rowNumber\" style = \"font-weight: bold; text-align: right;\">9</td><td style = \"text-align: right;\">-122.26</td><td style = \"text-align: right;\">37.84</td><td style = \"text-align: right;\">42.0</td><td style = \"text-align: right;\">2555.0</td><td style = \"text-align: right;\">665.0</td><td style = \"text-align: right;\">1206.0</td><td style = \"text-align: right;\">595.0</td><td style = \"text-align: right;\">2.0804</td><td style = \"text-align: right;\">226700.0</td><td style = \"text-align: left;\">NEAR BAY</td></tr><tr><td class = \"rowNumber\" style = \"font-weight: bold; text-align: right;\">10</td><td style = \"text-align: right;\">-122.25</td><td style = \"text-align: right;\">37.84</td><td style = \"text-align: right;\">52.0</td><td style = \"text-align: right;\">3549.0</td><td style = \"text-align: right;\">707.0</td><td style = \"text-align: right;\">1551.0</td><td style = \"text-align: right;\">714.0</td><td style = \"text-align: right;\">3.6912</td><td style = \"text-align: right;\">261100.0</td><td style = \"text-align: left;\">NEAR BAY</td></tr><tr><td class = \"rowNumber\" style = \"font-weight: bold; text-align: right;\">11</td><td style = \"text-align: right;\">-122.26</td><td style = \"text-align: right;\">37.85</td><td style = \"text-align: right;\">52.0</td><td style = \"text-align: right;\">2202.0</td><td style = \"text-align: right;\">434.0</td><td style = \"text-align: right;\">910.0</td><td style = \"text-align: right;\">402.0</td><td style = \"text-align: right;\">3.2031</td><td style = \"text-align: right;\">281500.0</td><td style = \"text-align: left;\">NEAR BAY</td></tr><tr><td class = \"rowNumber\" style = \"font-weight: bold; text-align: right;\">12</td><td style = \"text-align: right;\">-122.26</td><td style = \"text-align: right;\">37.85</td><td style = \"text-align: right;\">52.0</td><td style = \"text-align: right;\">3503.0</td><td style = \"text-align: right;\">752.0</td><td style = \"text-align: right;\">1504.0</td><td style = \"text-align: right;\">734.0</td><td style = \"text-align: right;\">3.2705</td><td style = \"text-align: right;\">241800.0</td><td style = \"text-align: left;\">NEAR BAY</td></tr><tr><td class = \"rowNumber\" style = \"font-weight: bold; text-align: right;\">13</td><td style = \"text-align: right;\">-122.26</td><td style = \"text-align: right;\">37.85</td><td style = \"text-align: right;\">52.0</td><td style = \"text-align: right;\">2491.0</td><td style = \"text-align: right;\">474.0</td><td style = \"text-align: right;\">1098.0</td><td style = \"text-align: right;\">468.0</td><td style = \"text-align: right;\">3.075</td><td style = \"text-align: right;\">213500.0</td><td style = \"text-align: left;\">NEAR BAY</td></tr><tr><td style = \"text-align: right;\">&vellip;</td><td style = \"text-align: right;\">&vellip;</td><td style = \"text-align: right;\">&vellip;</td><td style = \"text-align: right;\">&vellip;</td><td style = \"text-align: right;\">&vellip;</td><td style = \"text-align: right;\">&vellip;</td><td style = \"text-align: right;\">&vellip;</td><td style = \"text-align: right;\">&vellip;</td><td style = \"text-align: right;\">&vellip;</td><td style = \"text-align: right;\">&vellip;</td><td style = \"text-align: right;\">&vellip;</td></tr><tr><td class = \"rowNumber\" style = \"font-weight: bold; text-align: right;\">20629</td><td style = \"text-align: right;\">-121.48</td><td style = \"text-align: right;\">39.1</td><td style = \"text-align: right;\">19.0</td><td style = \"text-align: right;\">2043.0</td><td style = \"text-align: right;\">421.0</td><td style = \"text-align: right;\">1018.0</td><td style = \"text-align: right;\">390.0</td><td style = \"text-align: right;\">2.5952</td><td style = \"text-align: right;\">92400.0</td><td style = \"text-align: left;\">INLAND</td></tr><tr><td class = \"rowNumber\" style = \"font-weight: bold; text-align: right;\">20630</td><td style = \"text-align: right;\">-121.39</td><td style = \"text-align: right;\">39.12</td><td style = \"text-align: right;\">28.0</td><td style = \"text-align: right;\">10035.0</td><td style = \"text-align: right;\">1856.0</td><td style = \"text-align: right;\">6912.0</td><td style = \"text-align: right;\">1818.0</td><td style = \"text-align: right;\">2.0943</td><td style = \"text-align: right;\">108300.0</td><td style = \"text-align: left;\">INLAND</td></tr><tr><td class = \"rowNumber\" style = \"font-weight: bold; text-align: right;\">20631</td><td style = \"text-align: right;\">-121.32</td><td style = \"text-align: right;\">39.29</td><td style = \"text-align: right;\">11.0</td><td style = \"text-align: right;\">2640.0</td><td style = \"text-align: right;\">505.0</td><td style = \"text-align: right;\">1257.0</td><td style = \"text-align: right;\">445.0</td><td style = \"text-align: right;\">3.5673</td><td style = \"text-align: right;\">112000.0</td><td style = \"text-align: left;\">INLAND</td></tr><tr><td class = \"rowNumber\" style = \"font-weight: bold; text-align: right;\">20632</td><td style = \"text-align: right;\">-121.4</td><td style = \"text-align: right;\">39.33</td><td style = \"text-align: right;\">15.0</td><td style = \"text-align: right;\">2655.0</td><td style = \"text-align: right;\">493.0</td><td style = \"text-align: right;\">1200.0</td><td style = \"text-align: right;\">432.0</td><td style = \"text-align: right;\">3.5179</td><td style = \"text-align: right;\">107200.0</td><td style = \"text-align: left;\">INLAND</td></tr><tr><td class = \"rowNumber\" style = \"font-weight: bold; text-align: right;\">20633</td><td style = \"text-align: right;\">-121.45</td><td style = \"text-align: right;\">39.26</td><td style = \"text-align: right;\">15.0</td><td style = \"text-align: right;\">2319.0</td><td style = \"text-align: right;\">416.0</td><td style = \"text-align: right;\">1047.0</td><td style = \"text-align: right;\">385.0</td><td style = \"text-align: right;\">3.125</td><td style = \"text-align: right;\">115600.0</td><td style = \"text-align: left;\">INLAND</td></tr><tr><td class = \"rowNumber\" style = \"font-weight: bold; text-align: right;\">20634</td><td style = \"text-align: right;\">-121.53</td><td style = \"text-align: right;\">39.19</td><td style = \"text-align: right;\">27.0</td><td style = \"text-align: right;\">2080.0</td><td style = \"text-align: right;\">412.0</td><td style = \"text-align: right;\">1082.0</td><td style = \"text-align: right;\">382.0</td><td style = \"text-align: right;\">2.5495</td><td style = \"text-align: right;\">98300.0</td><td style = \"text-align: left;\">INLAND</td></tr><tr><td class = \"rowNumber\" style = \"font-weight: bold; text-align: right;\">20635</td><td style = \"text-align: right;\">-121.56</td><td style = \"text-align: right;\">39.27</td><td style = \"text-align: right;\">28.0</td><td style = \"text-align: right;\">2332.0</td><td style = \"text-align: right;\">395.0</td><td style = \"text-align: right;\">1041.0</td><td style = \"text-align: right;\">344.0</td><td style = \"text-align: right;\">3.7125</td><td style = \"text-align: right;\">116800.0</td><td style = \"text-align: left;\">INLAND</td></tr><tr><td class = \"rowNumber\" style = \"font-weight: bold; text-align: right;\">20636</td><td style = \"text-align: right;\">-121.09</td><td style = \"text-align: right;\">39.48</td><td style = \"text-align: right;\">25.0</td><td style = \"text-align: right;\">1665.0</td><td style = \"text-align: right;\">374.0</td><td style = \"text-align: right;\">845.0</td><td style = \"text-align: right;\">330.0</td><td style = \"text-align: right;\">1.5603</td><td style = \"text-align: right;\">78100.0</td><td style = \"text-align: left;\">INLAND</td></tr><tr><td class = \"rowNumber\" style = \"font-weight: bold; text-align: right;\">20637</td><td style = \"text-align: right;\">-121.21</td><td style = \"text-align: right;\">39.49</td><td style = \"text-align: right;\">18.0</td><td style = \"text-align: right;\">697.0</td><td style = \"text-align: right;\">150.0</td><td style = \"text-align: right;\">356.0</td><td style = \"text-align: right;\">114.0</td><td style = \"text-align: right;\">2.5568</td><td style = \"text-align: right;\">77100.0</td><td style = \"text-align: left;\">INLAND</td></tr><tr><td class = \"rowNumber\" style = \"font-weight: bold; text-align: right;\">20638</td><td style = \"text-align: right;\">-121.22</td><td style = \"text-align: right;\">39.43</td><td style = \"text-align: right;\">17.0</td><td style = \"text-align: right;\">2254.0</td><td style = \"text-align: right;\">485.0</td><td style = \"text-align: right;\">1007.0</td><td style = \"text-align: right;\">433.0</td><td style = \"text-align: right;\">1.7</td><td style = \"text-align: right;\">92300.0</td><td style = \"text-align: left;\">INLAND</td></tr><tr><td class = \"rowNumber\" style = \"font-weight: bold; text-align: right;\">20639</td><td style = \"text-align: right;\">-121.32</td><td style = \"text-align: right;\">39.43</td><td style = \"text-align: right;\">18.0</td><td style = \"text-align: right;\">1860.0</td><td style = \"text-align: right;\">409.0</td><td style = \"text-align: right;\">741.0</td><td style = \"text-align: right;\">349.0</td><td style = \"text-align: right;\">1.8672</td><td style = \"text-align: right;\">84700.0</td><td style = \"text-align: left;\">INLAND</td></tr><tr><td class = \"rowNumber\" style = \"font-weight: bold; text-align: right;\">20640</td><td style = \"text-align: right;\">-121.24</td><td style = \"text-align: right;\">39.37</td><td style = \"text-align: right;\">16.0</td><td style = \"text-align: right;\">2785.0</td><td style = \"text-align: right;\">616.0</td><td style = \"text-align: right;\">1387.0</td><td style = \"text-align: right;\">530.0</td><td style = \"text-align: right;\">2.3886</td><td style = \"text-align: right;\">89400.0</td><td style = \"text-align: left;\">INLAND</td></tr></tbody></table></div>"
      ],
      "text/latex": [
       "\\begin{tabular}{r|ccccccc}\n",
       "\t& longitude & latitude & housing\\_median\\_age & total\\_rooms & total\\_bedrooms & population & \\\\\n",
       "\t\\hline\n",
       "\t& Float64 & Float64 & Float64 & Float64 & Float64? & Float64 & \\\\\n",
       "\t\\hline\n",
       "\t1 & -122.23 & 37.88 & 41.0 & 880.0 & 129.0 & 322.0 & $\\dots$ \\\\\n",
       "\t2 & -122.22 & 37.86 & 21.0 & 7099.0 & 1106.0 & 2401.0 & $\\dots$ \\\\\n",
       "\t3 & -122.24 & 37.85 & 52.0 & 1467.0 & 190.0 & 496.0 & $\\dots$ \\\\\n",
       "\t4 & -122.25 & 37.85 & 52.0 & 1274.0 & 235.0 & 558.0 & $\\dots$ \\\\\n",
       "\t5 & -122.25 & 37.85 & 52.0 & 1627.0 & 280.0 & 565.0 & $\\dots$ \\\\\n",
       "\t6 & -122.25 & 37.85 & 52.0 & 919.0 & 213.0 & 413.0 & $\\dots$ \\\\\n",
       "\t7 & -122.25 & 37.84 & 52.0 & 2535.0 & 489.0 & 1094.0 & $\\dots$ \\\\\n",
       "\t8 & -122.25 & 37.84 & 52.0 & 3104.0 & 687.0 & 1157.0 & $\\dots$ \\\\\n",
       "\t9 & -122.26 & 37.84 & 42.0 & 2555.0 & 665.0 & 1206.0 & $\\dots$ \\\\\n",
       "\t10 & -122.25 & 37.84 & 52.0 & 3549.0 & 707.0 & 1551.0 & $\\dots$ \\\\\n",
       "\t11 & -122.26 & 37.85 & 52.0 & 2202.0 & 434.0 & 910.0 & $\\dots$ \\\\\n",
       "\t12 & -122.26 & 37.85 & 52.0 & 3503.0 & 752.0 & 1504.0 & $\\dots$ \\\\\n",
       "\t13 & -122.26 & 37.85 & 52.0 & 2491.0 & 474.0 & 1098.0 & $\\dots$ \\\\\n",
       "\t14 & -122.26 & 37.84 & 52.0 & 696.0 & 191.0 & 345.0 & $\\dots$ \\\\\n",
       "\t15 & -122.26 & 37.85 & 52.0 & 2643.0 & 626.0 & 1212.0 & $\\dots$ \\\\\n",
       "\t16 & -122.26 & 37.85 & 50.0 & 1120.0 & 283.0 & 697.0 & $\\dots$ \\\\\n",
       "\t17 & -122.27 & 37.85 & 52.0 & 1966.0 & 347.0 & 793.0 & $\\dots$ \\\\\n",
       "\t18 & -122.27 & 37.85 & 52.0 & 1228.0 & 293.0 & 648.0 & $\\dots$ \\\\\n",
       "\t19 & -122.26 & 37.84 & 50.0 & 2239.0 & 455.0 & 990.0 & $\\dots$ \\\\\n",
       "\t20 & -122.27 & 37.84 & 52.0 & 1503.0 & 298.0 & 690.0 & $\\dots$ \\\\\n",
       "\t21 & -122.27 & 37.85 & 40.0 & 751.0 & 184.0 & 409.0 & $\\dots$ \\\\\n",
       "\t22 & -122.27 & 37.85 & 42.0 & 1639.0 & 367.0 & 929.0 & $\\dots$ \\\\\n",
       "\t23 & -122.27 & 37.84 & 52.0 & 2436.0 & 541.0 & 1015.0 & $\\dots$ \\\\\n",
       "\t24 & -122.27 & 37.84 & 52.0 & 1688.0 & 337.0 & 853.0 & $\\dots$ \\\\\n",
       "\t25 & -122.27 & 37.84 & 52.0 & 2224.0 & 437.0 & 1006.0 & $\\dots$ \\\\\n",
       "\t26 & -122.28 & 37.85 & 41.0 & 535.0 & 123.0 & 317.0 & $\\dots$ \\\\\n",
       "\t27 & -122.28 & 37.85 & 49.0 & 1130.0 & 244.0 & 607.0 & $\\dots$ \\\\\n",
       "\t28 & -122.28 & 37.85 & 52.0 & 1898.0 & 421.0 & 1102.0 & $\\dots$ \\\\\n",
       "\t29 & -122.28 & 37.84 & 50.0 & 2082.0 & 492.0 & 1131.0 & $\\dots$ \\\\\n",
       "\t30 & -122.28 & 37.84 & 52.0 & 729.0 & 160.0 & 395.0 & $\\dots$ \\\\\n",
       "\t$\\dots$ & $\\dots$ & $\\dots$ & $\\dots$ & $\\dots$ & $\\dots$ & $\\dots$ &  \\\\\n",
       "\\end{tabular}\n"
      ],
      "text/plain": [
       "\u001b[1m20640×10 DataFrame\u001b[0m\n",
       "\u001b[1m   Row \u001b[0m│\u001b[1m longitude \u001b[0m\u001b[1m latitude \u001b[0m\u001b[1m housing_median_age \u001b[0m\u001b[1m total_rooms \u001b[0m\u001b[1m total_bedrooms \u001b[0m\u001b[1m\u001b[0m ⋯\n",
       "       │\u001b[90m Float64   \u001b[0m\u001b[90m Float64  \u001b[0m\u001b[90m Float64            \u001b[0m\u001b[90m Float64     \u001b[0m\u001b[90m Float64?       \u001b[0m\u001b[90m\u001b[0m ⋯\n",
       "───────┼────────────────────────────────────────────────────────────────────────\n",
       "     1 │   -122.23     37.88                41.0        880.0           129.0  ⋯\n",
       "     2 │   -122.22     37.86                21.0       7099.0          1106.0\n",
       "     3 │   -122.24     37.85                52.0       1467.0           190.0\n",
       "     4 │   -122.25     37.85                52.0       1274.0           235.0\n",
       "     5 │   -122.25     37.85                52.0       1627.0           280.0  ⋯\n",
       "     6 │   -122.25     37.85                52.0        919.0           213.0\n",
       "     7 │   -122.25     37.84                52.0       2535.0           489.0\n",
       "     8 │   -122.25     37.84                52.0       3104.0           687.0\n",
       "     9 │   -122.26     37.84                42.0       2555.0           665.0  ⋯\n",
       "    10 │   -122.25     37.84                52.0       3549.0           707.0\n",
       "    11 │   -122.26     37.85                52.0       2202.0           434.0\n",
       "   ⋮   │     ⋮         ⋮              ⋮                ⋮             ⋮         ⋱\n",
       " 20631 │   -121.32     39.29                11.0       2640.0           505.0\n",
       " 20632 │   -121.4      39.33                15.0       2655.0           493.0  ⋯\n",
       " 20633 │   -121.45     39.26                15.0       2319.0           416.0\n",
       " 20634 │   -121.53     39.19                27.0       2080.0           412.0\n",
       " 20635 │   -121.56     39.27                28.0       2332.0           395.0\n",
       " 20636 │   -121.09     39.48                25.0       1665.0           374.0  ⋯\n",
       " 20637 │   -121.21     39.49                18.0        697.0           150.0\n",
       " 20638 │   -121.22     39.43                17.0       2254.0           485.0\n",
       " 20639 │   -121.32     39.43                18.0       1860.0           409.0\n",
       " 20640 │   -121.24     39.37                16.0       2785.0           616.0  ⋯\n",
       "\u001b[36m                                                5 columns and 20619 rows omitted\u001b[0m"
      ]
     },
     "execution_count": 6,
     "metadata": {},
     "output_type": "execute_result"
    }
   ],
   "source": [
    "download(\"https://raw.githubusercontent.com/ageron/handson-ml/master/datasets/housing/housing.csv\",\"./data/newhouses.csv\")\n",
    "houses = CSV.read(\"./data/newhouses.csv\", DataFrame)"
   ]
  },
  {
   "cell_type": "code",
   "execution_count": 7,
   "id": "50f1052f-8ec8-4126-a841-6b429665f131",
   "metadata": {},
   "outputs": [
    {
     "data": {
      "text/plain": [
       "10-element Vector{String}:\n",
       " \"longitude\"\n",
       " \"latitude\"\n",
       " \"housing_median_age\"\n",
       " \"total_rooms\"\n",
       " \"total_bedrooms\"\n",
       " \"population\"\n",
       " \"households\"\n",
       " \"median_income\"\n",
       " \"median_house_value\"\n",
       " \"ocean_proximity\""
      ]
     },
     "execution_count": 7,
     "metadata": {},
     "output_type": "execute_result"
    }
   ],
   "source": [
    "names(houses)"
   ]
  },
  {
   "cell_type": "markdown",
   "id": "b5ecfd9a-9901-488c-ade9-0dd7957f7487",
   "metadata": {},
   "source": [
    "We will use `VegaLite` package here for plotting. This package makes it very easy to plot information on a map. All you need is a JSON file of the map you intend to draw. Here, we will use the California Counties JSON file and plot each house on the mapand color code it via a heatmap of the price. This is done by ```color=median_house_value:q```"
   ]
  },
  {
   "cell_type": "code",
   "execution_count": null,
   "id": "525902b2-2e9d-4488-a074-34d68915daa6",
   "metadata": {},
   "outputs": [],
   "source": [
    "cali_shape = JSON"
   ]
  },
  {
   "cell_type": "code",
   "execution_count": null,
   "id": "9899627d-1f50-47dc-8b33-945039c24266",
   "metadata": {},
   "outputs": [],
   "source": []
  }
 ],
 "metadata": {
  "kernelspec": {
   "display_name": "Julia 1.8.0",
   "language": "julia",
   "name": "julia-1.8"
  },
  "language_info": {
   "file_extension": ".jl",
   "mimetype": "application/julia",
   "name": "julia",
   "version": "1.8.0"
  }
 },
 "nbformat": 4,
 "nbformat_minor": 5
}
